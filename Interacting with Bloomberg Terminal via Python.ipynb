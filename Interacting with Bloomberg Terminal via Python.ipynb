{
 "cells": [
  {
   "cell_type": "markdown",
   "metadata": {},
   "source": [
    "# Interacting with Bloomberg Terminal via Python\n",
    "\n",
    "## 1. Introduction\n",
    "This is a tutorial on two common Python libraries used to interact with Bloomberg Terminal data. Each has strengths and weaknesses, and use will vary depending on expertise and application. \n",
    "\n",
    "## 2. Installation\n",
    "There is a pretty comprehensive list of requirements required to get Bloomberg data into Python. This is the main deterrent for people using Python instead of Excel/VBA; however, Python is far more powerful and scaleable. Beyond this initial curve, Python will be the superior and easier to use method to process large amounts of data at a much faster speed. The requirements stated below are for a Windows 10 PC.\n",
    "### 2.1 Windows Requirements\n",
    "You need to use a Windows Computer to access Bloomberg Terminal, so this guide only covers Windows use case. Linux/Mac may vary. This guide is oriented for those using a Windows 10 machine. You can ask IT to upgrade your OS/Computer if you have a demonstrated need (some software only works in Win10, you need better hardware to run things faster). \n",
    "#### 2.1.1 C++\n",
    "You should have the latest edition of C++ installed on your computer. Although Bloomberg and other programs usually install it for you, you should have it in case you need to debug something, and just to make sure things are stable. You can grab C++ and the Visual Studio Developer Tools package from Microsoft's site. \n",
    "#### 2.1.2  Bloomberg Terminal\n",
    "You also must have access to Bloomberg Terminal. Bloomberg Terminal is an interface to access the vast Bloomberg data library. Terminal access is very expensive, so make good use of it. \n",
    "Access to Bloomberg Terminal means having the Bloomberg Terminal software installed on the computer you're using, and having an active account to access the Terminal.\n",
    "#### 2.1.3 Debugging, Diagnostic and Security Requirements\n",
    "May may face issues with Admin Authorization while trying to install these apps. Google is your best friend in finding work arounds and settings to enable. If you run into something needing Admin Approval, get IT to assist. Most of the required libraries should install smoothly. \n",
    "### 2.2 Python Requirements\n",
    "You should use whatever version of Python you are comfortable (after 3.5). Some conversion will be required for some libraries. It is advised that you have Anaconda installed with a Virtual Environment set up with Python 3.7. Anaconda comes with Spyder, which is an excellent choice for an IDE, especially in this context. \n",
    "\n",
    "### 2.3 Installing the Libraries\n",
    "You will need to install the Python libraries using the pip command. Launch Anaconda Prompt from the Start menu and a Terminal Window will pop up. Use this interface to install new packages. Copy and paste these lines in and click enter. Any errors can be debugged with the on screen prompts and Google. "
   ]
  },
  {
   "cell_type": "code",
   "execution_count": null,
   "metadata": {},
   "outputs": [],
   "source": [
    "python -m pip install --index-url=https://bloomberg.bintray.com/pip/simple blpapi\n",
    "pip install pandas tia xbbg"
   ]
  },
  {
   "cell_type": "markdown",
   "metadata": {},
   "source": [
    "On the Scotia server, you need to use a special version of pip to bypass the proxy. "
   ]
  },
  {
   "cell_type": "code",
   "execution_count": null,
   "metadata": {},
   "outputs": [],
   "source": [
    "pip --proxy http://proxyprd.scotia-capital.com:8080 install [PACKAGES_TO_INSTALL_HERE]"
   ]
  },
  {
   "cell_type": "markdown",
   "metadata": {},
   "source": [
    "#### 2.3.1 Convert from Python 2 to Python 3\n",
    "tia is in Python 2.7, however, it is vvery easy to convert it. Find where the v3API file is (you can locate it based on the error you get when trying to invoke any tia functions), and make the following changes:\n",
    "1. Find (Cntrl+F) and Replace (Cntrl+R) \"basestring\" to \"str\"\n",
    "2. Find (Cntrl+F) and Replace (Cntrl+R) \"iteritems\" to \"items\"\n",
    "3. Find (Cntrl+F) all print statements in the print \"\" formal and convert to the print(\"\") format. \n",
    "4. If you run into any further issues, just check Google or try to fix them yourself as part of conversion. \n",
    "A good test to see that everything worked is to try to import the package into a blank Python file. Paste the below in and hit run. "
   ]
  },
  {
   "cell_type": "code",
   "execution_count": 2,
   "metadata": {},
   "outputs": [],
   "source": [
    "from xbbg import blp\n",
    "from tia import bbg"
   ]
  },
  {
   "cell_type": "markdown",
   "metadata": {},
   "source": [
    "#### 2.3.2 Errors with Python/C++ Compatability\n",
    "You may face something similar to this [error](https://stackoverflow.com/questions/52897576/install-error-for-blpapi-in-python-for-bloomberg-api), that says your Python and C++ SDK versions are incompatible. The fix is pretty easy. Just visit the [Bloomberg API site](https://www.bloomberg.com/professional/support/api-library/) and grab the appropriate version (supported or experimental). Extract the files blpapi3_32.dll, blpapi3_32.lib, blpapi3_64.dll, and blpapi3_64.lib. Search your computer for where the old versions of these files are (usually in anaconda3 folder or blp folder) and replace them with the new versions. You need to close all Bloomberg applications (including MS Office apps that use Bloomberg's API). After you make the replacement, everything should work. Check this [link](https://stackoverflow.com/questions/52897576/install-error-for-blpapi-in-python-for-bloomberg-api) in case of errors. "
   ]
  },
  {
   "cell_type": "code",
   "execution_count": 3,
   "metadata": {},
   "outputs": [],
   "source": [
    "from tia import bbg"
   ]
  },
  {
   "cell_type": "markdown",
   "metadata": {},
   "source": [
    "At this point, if things run without error, you should be OK to start using Bloomberg in Python."
   ]
  },
  {
   "cell_type": "markdown",
   "metadata": {},
   "source": [
    "## 3. The Libraries\n",
    "There are two libraries which allow interaction with Bloomberg through Python. They are tia and xbbg. tia is meant for standalone data calls for single values, and xbbg is meant for both standalone and bulk reference data. Bulk reference data just means a collection of data (like the PX_LAST for the past year). \n",
    "### 3.1 The Libraries\n",
    "### 3.1.1 tia: Toolkit for integration and analysis\n",
    "tia (Toolkit for integration and analysis) allows access to Bloomberg Terminal as a wrapper on the standalone blp api (which xbbg uses). This makes it arguably simpler to use, and it is more optimized such that you will only call a small portion of the Bloomberg library, instead of the whole thing (improving runtimes). \n",
    "To structure queries in tia, you need to learn a few basics. Firstly, you should know that there are two ways to build the query to send to terminal. Firstly, you can use the built in datamgr to make simple calls. Secondly, for more complex calls, you can create a Local Terminal object (LocalTerminal) and invoke more detailed commands. Datamgr is a wrapper on the LocalTerminal, making it much easier to interact with data. \n",
    "### 3.1.2 xbbg\n",
    "xbbg is useful for anyone coming to Python from Excel and VBA, who is familiar with the Excel way of invoking data calls. xbbg will use the native C++ API that comes with Bloomberg, and essentially just adds a Python wrapper to it. xbbg allows you to structure queries similar to how you would in Excel. You can use bds, bdp and bds. As a result of this, it can sometimes be slower in pulling data.\n",
    "### 3.2 Getting Everything Open and Testing\n",
    "Your Python file should now looks like this:"
   ]
  },
  {
   "cell_type": "code",
   "execution_count": 4,
   "metadata": {},
   "outputs": [],
   "source": [
    "from xbbg import blp\n",
    "from tia import bbg\n",
    "bbg_term = bbg.LocalTerminal\n",
    "bbg_data = bbg.datamgr.BbgDataManager()"
   ]
  },
  {
   "cell_type": "markdown",
   "metadata": {},
   "source": [
    "Hit run and confirm everything was imported correctly. \n",
    "### 3.3 What do the Libraries Do?\n",
    "Heading into the source code for either library shows you that they are just building commands to pass into the C++ API. That is pretty much their core function. The way you can interact and pull data is by creating a Bloomberg 'object,' which you can invoke commands on. \n",
    "In tia, you can create a datamgr object, which will pass the command into LocalTerminal, which in turn will invoke the Bloomberg API. To do this, you need to give the Datamgr an instrument. This is done in the format\n"
   ]
  },
  {
   "cell_type": "code",
   "execution_count": null,
   "metadata": {},
   "outputs": [],
   "source": [
    "variable = bbg_data[\"INSTRUMENT\"]"
   ]
  },
  {
   "cell_type": "markdown",
   "metadata": {},
   "source": [
    "### 3.4 Hello World with Bloomberg\n",
    "Now that we are familiar with what \n",
    "#### 3.4.1 tia Format"
   ]
  },
  {
   "cell_type": "code",
   "execution_count": null,
   "metadata": {},
   "outputs": [],
   "source": [
    "spx = bbg_data[\"SPX Index\"]\n",
    "spx_open = spx.OPEN\n",
    "spx_high = spx.HIGH\n",
    "spx_low = spx.LOW\n",
    "spx_close = spx.PX_LAST\n",
    "print(\"The OHLC for the SPX Index is\", spx_open, spx_high, spx_low, spx_close)"
   ]
  },
  {
   "cell_type": "markdown",
   "metadata": {},
   "source": [
    "#### 3.4.2 xbbg Format"
   ]
  },
  {
   "cell_type": "code",
   "execution_count": 19,
   "metadata": {},
   "outputs": [
    {
     "name": "stdout",
     "output_type": "stream",
     "text": [
      "               px_last\n",
      "ticker                \n",
      "SPX Index  3012.679932\n",
      "ticker     SPX Index\n",
      "field        PX_LAST\n",
      "2016-07-11   2137.16\n",
      "2016-07-12   2152.14\n",
      "2016-07-13   2152.43\n",
      "2016-07-14   2163.75\n",
      "2016-07-15   2161.74\n"
     ]
    }
   ],
   "source": [
    "spx_today = blp.bdp(\"SPX Index\", 'PX_LAST')\n",
    "spx_hist = blp.bdh(\"SPX Index\", flds=['PX_LAST'], start_date='2016-07-10', end_date='2019-07-10')\n",
    "print(spx_today)\n",
    "print(spx_hist.head())"
   ]
  },
  {
   "cell_type": "markdown",
   "metadata": {},
   "source": [
    "## 4. Different Use Cases and Examples\n",
    "\n",
    "## 5. More Complex Examples and Speeding Up Code\n",
    "Each call to Bloomberg is very expensive (in terms of time and memory complexity). As such, an effort should be made\n",
    "Use timeit to compare runtimes\n",
    "### 5.1 Some Rules and Tips\n",
    "- Always make calls to Bloomberg and "
    "- MORE COMING SOON!"
   ]
  }
 ],
 "metadata": {
  "kernelspec": {
   "display_name": "Python 3",
   "language": "python",
   "name": "python3"
  },
  "language_info": {
   "codemirror_mode": {
    "name": "ipython",
    "version": 3
   },
   "file_extension": ".py",
   "mimetype": "text/x-python",
   "name": "python",
   "nbconvert_exporter": "python",
   "pygments_lexer": "ipython3",
   "version": "3.7.3"
  }
 },
 "nbformat": 4,
 "nbformat_minor": 2
}
