{
 "cells": [
  {
   "cell_type": "markdown",
   "metadata": {},
   "source": [
    "# Western Founders Network\n",
    "### Machine Learning for Stock Price Prediction\n",
    "\n",
    "This tutorial will give you a breakdown of the basics of Stock Price Predictions. We will look at the S&P 500 instrument, SPX. We will be doing Classification of whether the price of the asset will go up or down tomorrow. It is also possible to do regression to find an exact price, but this is far more difficult to do accurately.\n",
    "\n",
    "We will use Python 3.5, one of the simplest yet most useful languages in the world. Python is easy to understand, and has a lot of libraries. SciKit-Learn, a popular Python library, along with XGBoost, a popular tree library, are what we'll use to do our Machine Learning today."
   ]
  },
  {
   "cell_type": "markdown",
   "metadata": {},
   "source": [
    "## Requirements\n",
    "You should have the following:\n",
    "    - Python 3.5\n",
    "    - pandas 0.22.0\n",
    "    - NumPy 1.14.2\n",
    "    - Scikit-Learn 0.19.1\n",
    "    - XGBoost 0.71\n",
    "Also, have a Windows or MAC Computer (Linux may run into some issues). "
   ]
  },
  {
   "cell_type": "markdown",
   "metadata": {},
   "source": [
    "## The Actual Code\n",
    "Below, you'll find all of the code we use to do our machine learning predictions. "
   ]
  },
  {
   "cell_type": "markdown",
   "metadata": {},
   "source": [
    "### Imports\n",
    "Certain tasks are really standard, but difficult to code. As such, if there's something we need to do when programming, and it is common, we can usually use an external library in Python that someone else has made to get the job done!\n",
    "\n",
    "In Machine Learning, programming a neural network and it's appropriate methods from scratch would be time-consuming and prone to error. As such, we can use libraries like Scikit-Learn, a very common library that's used in the field. \n",
    "\n",
    "For more serious ML work, you can look at Keras, which offers a lot more control, but keeps things easy. When you're ready to work more in-depth, using TensorFlow, PyTorch, and creating models from scratch may be more common. "
   ]
  },
  {
   "cell_type": "code",
   "execution_count": 1,
   "metadata": {},
   "outputs": [],
   "source": [
    "# Imports\n",
    "import pandas as pd                          # Pandas is a useful data manipulation library\n",
    "import numpy as np                           # Numpy is a useful computational library, that's also fast!\n",
    "import xgboost as xgb                        # XGBoost is one library we will use for ML. \n",
    "import sklearn as sk                         # Scikit-Learn will be the basis of our ML today"
   ]
  },
  {
   "cell_type": "markdown",
   "metadata": {},
   "source": [
    "### Data Importing and Processing\n",
    "First, we need to get our data into a format that's easy to work with in Python. Here, we have a CSV with Open, High, Low, Close, and Volume (OHLC&V) data. We're going to import the CSV into a Pandas Data Frame. This is a data structure used by Pandas. \n",
    "\n",
    "Here we're using OHLC and Volume as our features. It's really important to choose the best available features to you if you ever want to improve your model's performance. We'll engineer a few very basic features here. This model will perform poorly as we are using raw values of OHLC and Volume (which tend to increase overtime), and as such, we won't make meaningful relations from the data - but this is where you have to consider, what features make sense. As long as you can understand the model, and make great features, you can do well! We will also drop any empty cells, and create a label, called Label. The label is what we're trying to predict, and it indicates whether the price of the stock will go up or down tomorrow (1 and 0 respectively). "
   ]
  },
  {
   "cell_type": "code",
   "execution_count": 2,
   "metadata": {},
   "outputs": [],
   "source": [
    "# Import the data from a CSV of OHLC and Volume Data\n",
    "data = pd.read_csv(r\"C:\\Users\\Drew\\Documents\\Tutorials\\SPX_data.csv\", index_col=0)"
   ]
  },
  {
   "cell_type": "code",
   "execution_count": 3,
   "metadata": {},
   "outputs": [],
   "source": [
    "# Engineer some basic features to enhance data\n",
    "# Return on a daily basis\n",
    "data[\"Close Return\"] = data[\"Close\"].pct_change()\n",
    "# First derivative of Volume\n",
    "data['Volume Velocity'] = data['Volume'].diff()\n",
    "# Second derivative on volume\n",
    "data['Volume Acceleration'] = data['Volume Velocity'].diff()\n",
    "# Change in volume as a percent on a daily\n",
    "data['Volume Percent'] = data['Volume'].pct_change()\n",
    "# Calculate the moving averages\n",
    "data['SMA'] = data['Close'].rolling(window=10).mean()\n",
    "data['EMA'] = data['Close'].ewm(span=30).mean()\n",
    "\n",
    "# Convert the index to date time format, so that it is easier to work with\n",
    "data.index = pd.to_datetime(data.index)\n",
    "# Drop the NA cells\n",
    "data= data.dropna(how=\"any\")\n",
    "\n",
    "#Label assigned, 0 for sell, and 1 for buy\n",
    "data[\"Label\"] = np.where(data[\"Close\"] > (data[\"Close\"].shift(-1)), 0, 1)\n"
   ]
  },
  {
   "cell_type": "code",
   "execution_count": 8,
   "metadata": {},
   "outputs": [
    {
     "data": {
      "text/plain": [
       "<matplotlib.axes._subplots.AxesSubplot at 0x276463792e8>"
      ]
     },
     "execution_count": 8,
     "metadata": {},
     "output_type": "execute_result"
    },
    {
     "data": {
      "image/png": "[encoded data removed]",
      "text/plain": [
       "<Figure size 432x288 with 1 Axes>"
      ]
     },
     "metadata": {},
     "output_type": "display_data"
    }
   ],
   "source": [
    "# Plot the close prices\n",
    "data['Close'].plot()\n",
    "data['SMA'].plot()\n",
    "data['EMA'].plot()"
   ]
  },
  {
   "cell_type": "markdown",
   "metadata": {},
   "source": [
    "### Data Preparation and Normalization\n",
    "ML models need data to train and make predictions accurately. As such, you need a training set of data and a testing set. From an original dataset, a split can be made. \n",
    "\n",
    "The train will be used to train and improve the model through each iteration, and the test set will be used later to evaluate. \n",
    "\n",
    "We also have an important step called normalization. Normalizing gets all of our data in the same range (0 to 1) based on the train set. In doing so, we rescale appropriately, and make it easier for our model to train on the data. Normalizing simply takes your data and scales it to a normal range. Usually, this range is between 0 and 1, however, it can also be from -1 to 1. We set our normalizing parameters based on the Std dev and mean of our training set, so we may get values above 1 in our test set. There are numerous reasons for this, which I won't get into. We can use Scikit-learn for this, which makes things really easy. Here, we assign our maximum value 1, and minimum 0.\n",
    "\n",
    "Lastly, we'll want to create an X and y component of both train and test. In both, the X component is the data our model can see (OHLC and Volume), and they label is the data our model is supposed to try and predict. We'll split the data by dropping the label for X, and only including the label for y.\n",
    "\n",
    "We will also use a rebalance function to demonstrate some bias removal and a way to enhance the data you have to be a better teacher for your model. The thinking here is that 60% of the time, the stock market may go up. If this is the case, the prediction will try to do the best statistically and always predict buy as an output, which isn't helpful. This step serves to make the number of buys and the number of cells equal in our training set. "
   ]
  },
  {
   "cell_type": "code",
   "execution_count": 9,
   "metadata": {},
   "outputs": [],
   "source": [
    "# Split the data\n",
    "train_data = data['1990-01-01':'2010-12-31'].copy()\n",
    "test_data = data['2011-01-01':'2018-01-01'].copy()"
   ]
  },
  {
   "cell_type": "code",
   "execution_count": 10,
   "metadata": {},
   "outputs": [],
   "source": [
    "# Rebalance the training set\n",
    "from sklearn.utils import resample\n",
    "def rebalance(unbalanced_data):\n",
    "    # Separate majority and minority classes\n",
    "    data_minority = unbalanced_data[unbalanced_data[\"Label\"] == 0]\n",
    "    data_majority = unbalanced_data[unbalanced_data[\"Label\"] == 1]\n",
    "    # Upsample minority class\n",
    "    n_samples = len(data_majority)\n",
    "    data_minority_upsampled = resample(data_minority, replace=True, n_samples=n_samples, random_state=5)\n",
    "    # Combine majority class with upsampled minority class\n",
    "    data_upsampled = pd.concat([data_majority, data_minority_upsampled])\n",
    "    data_upsampled.sort_index(inplace=True)\n",
    "    # Display new class counts\n",
    "    data_upsampled[\"Label\"].value_counts()\n",
    "    return data_upsampled\n",
    "train_data = rebalance(train_data)"
   ]
  },
  {
   "cell_type": "code",
   "execution_count": 11,
   "metadata": {},
   "outputs": [],
   "source": [
    "# Normalize the data\n",
    "scaler = sk.preprocessing.MinMaxScaler()\n",
    "scaler.fit(train_data)\n",
    "train_data.loc[:, train_data.columns] = scaler.transform(train_data)\n",
    "test_data.loc[:,test_data.columns] = scaler.transform(test_data)"
   ]
  },
  {
   "cell_type": "code",
   "execution_count": 12,
   "metadata": {},
   "outputs": [],
   "source": [
    "# Train and Test Data and Label Assignment\n",
    "X_train = train_data.drop(\"Label\",1)\n",
    "y_train = train_data[\"Label\"]\n",
    "X_test = test_data.drop(\"Label\",1)\n",
    "y_test = test_data[\"Label\"]"
   ]
  },
  {
   "cell_type": "markdown",
   "metadata": {},
   "source": [
    "### Machine Learning Portion\n",
    "Now that we've processed some of our data, we can finally start with the ML, what we've been waiting for!\n",
    "\n",
    "We're going to be using sklearn to make three models. Feel free to play around with the parameters for each model a bit and see how it affects performance!\n",
    "\n",
    "Let's talk about parameters. Parameters are just some basic rules and instructions for our model to follow while it's fitting the model, all to make sure that it trains how we want it to. We use a variety of different parameters, and they change based on the model we fit. Here, we'll be fitting the following:\n",
    "    - Fully Connected Neural Network\n",
    "    - Extreme Gradient Boosting\n",
    "    - SVM\n",
    "\n",
    "Then, the big show! We'll train our model by passing in our parameters, our train data, and for a specified number of rounds. This will take a few seconds\n",
    "to a few minutes to process depending on how much data you've pulled. This  trained model can then be used to predict output labels.\n",
    "\n",
    "When we're done, we can test accuracy against the real numbers that are labels for our test set. "
   ]
  },
  {
   "cell_type": "code",
   "execution_count": 13,
   "metadata": {},
   "outputs": [],
   "source": [
    "# We want to be able to compute accuracy\n",
    "from sklearn.metrics import accuracy_score"
   ]
  },
  {
   "cell_type": "code",
   "execution_count": 14,
   "metadata": {},
   "outputs": [
    {
     "name": "stdout",
     "output_type": "stream",
     "text": [
      "Accuracy on test set was 54.230550823395795%.\n"
     ]
    }
   ],
   "source": [
    "# The Neural Network\n",
    "# This block will use the Multi-layer Perceptron from sklearn to create a neural network, train it, and predict using it. \n",
    "\n",
    "# Import\n",
    "from sklearn.neural_network import MLPClassifier\n",
    "# Create the object mlp as a case of MLPClassifier with 3, 30-neuron hidden layers. \n",
    "mlp = MLPClassifier(hidden_layer_sizes=(30,30,30), activation='relu', alpha=1e-05, learning_rate_init=0.001,max_iter=500)\n",
    "# We fit the model here\n",
    "mlp.fit(X_train, y_train)\n",
    "# And make predictions here\n",
    "predictions = mlp.predict(X_test)\n",
    "# Computer Accuracy\n",
    "accuracytest = accuracy = (accuracy_score(y_test, predictions))\n",
    "# Print the accuracy\n",
    "print(\"Accuracy on test set was {0}%.\".format(accuracytest*100))"
   ]
  },
  {
   "cell_type": "code",
   "execution_count": 15,
   "metadata": {},
   "outputs": [
    {
     "name": "stdout",
     "output_type": "stream",
     "text": [
      "Accuracy on test set was 53.208404315729695%.\n"
     ]
    },
    {
     "name": "stderr",
     "output_type": "stream",
     "text": [
      "C:\\Users\\Drew\\AppData\\Local\\Continuum\\anaconda3\\envs\\Python35\\lib\\site-packages\\sklearn\\preprocessing\\label.py:151: DeprecationWarning: The truth value of an empty array is ambiguous. Returning False, but in future this will result in an error. Use `array.size > 0` to check that an array is not empty.\n",
      "  if diff:\n"
     ]
    }
   ],
   "source": [
    "# The Boosted Tree\n",
    "# This block will use the eXtreme Gradient BOOSTing from XGBoost to create a tree, train on it, and predict using it. \n",
    "# XGBoost creates trees similar to decision trees based on the input vector. \n",
    "\n",
    "# Import\n",
    "from xgboost import XGBClassifier\n",
    "# Create the object model as a case of XGBClassifier with the default parameters\n",
    "model = XGBClassifier()\n",
    "# Fit the model here\n",
    "model.fit(X_train, y_train)\n",
    "# And make predictions here\n",
    "y_pred = model.predict(X_test)\n",
    "predictions = [round(value) for value in y_pred]\n",
    "# Computer Accuracy\n",
    "accuracytest = accuracy = (accuracy_score(y_test, predictions))\n",
    "# Print the accuracy\n",
    "print(\"Accuracy on test set was {0}%.\".format(accuracytest*100))"
   ]
  },
  {
   "cell_type": "code",
   "execution_count": 16,
   "metadata": {},
   "outputs": [
    {
     "name": "stdout",
     "output_type": "stream",
     "text": [
      "Accuracy on test set was 47.018739352640544%.\n"
     ]
    }
   ],
   "source": [
    "# The Support Vector Machine\n",
    "# This block uses the LinearSVC from sklearn to create and train a support vector machine with default parameters and predict\n",
    "\n",
    "# Imports\n",
    "from sklearn.svm import LinearSVC\n",
    "# Create the object clf as a case of the LinearSVC with default parameters\n",
    "clf = LinearSVC(random_state=0, tol=1e-5)\n",
    "# Train the model here\n",
    "clf.fit(X_train, y_train)\n",
    "# And make predictions here\n",
    "predictions = clf.predict(X_test)\n",
    "# Computer Accuracy\n",
    "accuracytest = accuracy = (accuracy_score(y_test, predictions))\n",
    "# Print the accuracy\n",
    "print(\"Accuracy on test set was {0}%.\".format(accuracytest*100))"
   ]
  }
 ],
 "metadata": {
  "kernelspec": {
   "display_name": "Python 3",
   "language": "python",
   "name": "python3"
  },
  "language_info": {
   "codemirror_mode": {
    "name": "ipython",
    "version": 3
   },
   "file_extension": ".py",
   "mimetype": "text/x-python",
   "name": "python",
   "nbconvert_exporter": "python",
   "pygments_lexer": "ipython3",
   "version": "3.5.5"
  }
 },
 "nbformat": 4,
 "nbformat_minor": 2
}
